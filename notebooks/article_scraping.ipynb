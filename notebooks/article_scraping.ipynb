{
 "cells": [
  {
   "cell_type": "code",
   "execution_count": 8,
   "id": "8d6b69af",
   "metadata": {},
   "outputs": [],
   "source": [
    "import requests, PyPDF2\n",
    "from io import BytesIO\n",
    "from bs4 import BeautifulSoup\n",
    "\n",
    "from nltk.tokenize import word_tokenize, sent_tokenize"
   ]
  },
  {
   "cell_type": "code",
   "execution_count": 10,
   "id": "ac85bd6c",
   "metadata": {},
   "outputs": [],
   "source": [
    "url = 'https://www.bodybuilding.com/fun/docs/2014/30-day-beginner-guide-3000-meal-plan.pdf'"
   ]
  },
  {
   "cell_type": "code",
   "execution_count": 7,
   "id": "82d9f42c",
   "metadata": {
    "collapsed": true
   },
   "outputs": [
    {
     "data": {
      "text/plain": [
       "<html><body><p>%PDF-1.4\n",
       "%âãÏÓ\n",
       "13 0 obj\n",
       "&lt;&gt;\n",
       "endobj\n",
       "             \n",
       "xref\n",
       "13 56\n",
       "0000000016 00000 n\n",
       "0000001743 00000 n\n",
       "0000001842 00000 n\n",
       "0000002341 00000 n\n",
       "0000002608 00000 n\n",
       "0000002989 00000 n\n",
       "0000003292 00000 n\n",
       "0000003405 00000 n\n",
       "0000003516 00000 n\n",
       "0000003639 00000 n\n",
       "0000003753 00000 n\n",
       "0000003865 00000 n\n",
       "0000004543 00000 n\n",
       "0000004823 00000 n\n",
       "0000005168 00000 n\n",
       "0000005446 00000 n\n",
       "0000005908 00000 n\n",
       "0000006266 00000 n\n",
       "0000006643 00000 n\n",
       "0000006957 00000 n\n",
       "0000007232 00000 n\n",
       "0000007664 00000 n\n",
       "0000008598 00000 n\n",
       "0000009024 00000 n\n",
       "0000009049 00000 n\n",
       "0000009191 00000 n\n",
       "0000009336 00000 n\n",
       "0000009697 00000 n\n",
       "0000009722 00000 n\n",
       "0000010415 00000 n\n",
       "0000011129 00000 n\n",
       "0000011953 00000 n\n",
       "0000012447 00000 n\n",
       "0000013355 00000 n\n",
       "0000014114 00000 n\n",
       "0000022278 00000 n\n",
       "0000022347 00000 n\n",
       "0000022437 00000 n\n",
       "0000032009 00000 n\n",
       "0000036282 00000 n\n",
       "0000036570 00000 n\n",
       "0000042313 00000 n\n",
       "0000042559 00000 n\n",
       "0000049670 00000 n\n",
       "0000049739 00000 n\n",
       "0000050052 00000 n\n",
       "0000050343 00000 n\n",
       "0000056927 00000 n\n",
       "0000057021 00000 n\n",
       "0000057098 00000 n\n",
       "0000092895 00000 n\n",
       "0000092932 00000 n\n",
       "0000098699 00000 n\n",
       "0000230483 00000 n\n",
       "0000599464 00000 n\n",
       "0000001416 00000 n\n",
       "trailer\n",
       "&lt;&lt;571063BB8F2C4987B4CEE9DCA7E9FBDD&gt;]/Prev 1148910&gt;&gt;\n",
       "startxref\n",
       "0\n",
       "%%EOF\n",
       "                   \n",
       "68 0 obj\n",
       "&lt;</p></body></html>"
      ]
     },
     "execution_count": 7,
     "metadata": {},
     "output_type": "execute_result"
    }
   ],
   "source": [
    "content = requests.get(url=url).content\n",
    "BeautifulSoup(content)"
   ]
  },
  {
   "cell_type": "code",
   "execution_count": 20,
   "id": "b6306439",
   "metadata": {},
   "outputs": [
    {
     "name": "stdout",
     "output_type": "stream",
     "text": [
      "PAGE NUMBER 0\n",
      "PAGE NUMBER 1\n"
     ]
    },
    {
     "name": "stderr",
     "output_type": "stream",
     "text": [
      "PdfReadWarning: Xref table not zero-indexed. ID numbers for objects will be corrected. [pdf.py:1736]\n"
     ]
    },
    {
     "data": {
      "text/plain": [
       "['WWW.BODYBUILDING.COM/BEGINNERSGUIDE',\n",
       " 'SAMPLE MEAL PLAN - 3000 CALORIES',\n",
       " 'BREAKFAST',\n",
       " 'PROTEIN',\n",
       " 'CARBOHYDRATES',\n",
       " 'FAT',\n",
       " 'CALORIES',\n",
       " '8 EGG WHITES ',\n",
       " '29001371 WHOLE EGGS605722/3 CUP UNCOOKED OATS',\n",
       " '93632071/2 TBSP NATURAL PEANUT/ALMOND ',\n",
       " 'BUTTER22453TOTAL',\n",
       " '463712469PROTEIN',\n",
       " 'CARBOHYDRATES',\n",
       " 'FAT',\n",
       " 'CALORIES',\n",
       " '2 TBSP NATURAL PEANUT/ALMOND ',\n",
       " '',\n",
       " 'BUTTER88162102 SLICES WHEAT BREAD',\n",
       " '7282149',\n",
       " '012050TOTAL',\n",
       " '154818409LUNCH',\n",
       " 'PROTEIN',\n",
       " 'CARBOHYDRATES',\n",
       " 'FAT',\n",
       " 'CALORIES',\n",
       " '5 OZ CHICKEN',\n",
       " '44052347 OZ  SWEET POTATO ',\n",
       " '44101792 CUP BROCCOLI ',\n",
       " '5121622 TEASPOONS OLIVE OIL ',\n",
       " '00979TOTAL',\n",
       " '535315554MID DAY',\n",
       " 'PROTEIN',\n",
       " 'CARBOHYDRATES',\n",
       " 'FAT',\n",
       " 'CALORIES',\n",
       " '5 OZ CHICKEN ',\n",
       " '44052341 CUP COOKED BROWN RICE ',\n",
       " '54622183 CUPS SPINACH/MIXED GREENS ',\n",
       " '33021',\n",
       " '25790TOTAL',\n",
       " '545414563DINNERPROTEIN',\n",
       " 'CARBOHYDRATES',\n",
       " 'FAT',\n",
       " 'CALORIES',\n",
       " '7 OZ TILAPIA OR WHITE FISH',\n",
       " '51052451/2 CUP COOKED BROWN RICE ',\n",
       " '22001101 CUP MIXED VEGETABLES STEAMED',\n",
       " '3120118TOTAL',\n",
       " '56325473WWW.BODYBUILDING.COM/BEGINNERSGUIDE',\n",
       " 'SAMPLE MEAL PLAN - 3000 CALORIES',\n",
       " 'BEFORE BEDPROTEIN',\n",
       " 'CARBOHYDRATES',\n",
       " 'FAT',\n",
       " 'CALORIES',\n",
       " '1/2 CUP CHOPPED TOMATO',\n",
       " '140161/2 CUP LOW FAT COTTAGE CHEESE ',\n",
       " '143181TOTAL',\n",
       " '157197',\n",
       " 'PROTEIN',\n",
       " 'CARBOHYDRATES',\n",
       " 'FAT',\n",
       " 'CALORIES',\n",
       " 'PROTEIN SHAKE ',\n",
       " '50842601 SMALL APPLE ',\n",
       " '020077TOTAL',\n",
       " '50284337DAILY TOTAL',\n",
       " '292259692902SAMPLE MEAL PLAN - FOODS  AMOUNT  FOODS5 AND 1/2 DOZEN',\n",
       " 'EGGS4.5 LBSCHICKEN OR LEAN TURKEY 3 LBS ',\n",
       " 'TILAPIA OR WHITE FISH',\n",
       " '',\n",
       " '1 LBSDRY OATS ',\n",
       " '2.25 LBSRAW BROWN RICE ',\n",
       " '3 LBSSWEET POTATOES',\n",
       " '',\n",
       " 'FRESH OR FROZEN BERRIES',\n",
       " '3SMALL AVOCADOS',\n",
       " '7APPLES3 LBSBROCCOLI3 LBSMIXED VEGETABLES',\n",
       " '1.5 LBSSPINACH',\n",
       " '4TOMATOES',\n",
       " '28 OZ',\n",
       " 'LOW FAT COTTAGE CHEESE',\n",
       " 'ALWAYS HAVE ON HAND',\n",
       " 'NATURAL PEANUT/ALMOND BUTTER',\n",
       " 'EXTRA VIRGIN OLIVE OILNOTES',\n",
       " '']"
      ]
     },
     "execution_count": 20,
     "metadata": {},
     "output_type": "execute_result"
    }
   ],
   "source": [
    "response = requests.get(url)\n",
    "my_raw_data = response.content\n",
    "\n",
    "text = ''\n",
    "\n",
    "with BytesIO(my_raw_data) as data:\n",
    "    read_pdf = PyPDF2.PdfFileReader(data)\n",
    "\n",
    "    for page in range(read_pdf.getNumPages()):\n",
    "        print(f'PAGE NUMBER {page}')\n",
    "        page_text = read_pdf.getPage(page).extractText()\n",
    "        text+=page_text\n",
    "#         print(read_pdf.getPage(page).extractText())\n",
    "text.split('\\n')"
   ]
  },
  {
   "cell_type": "code",
   "execution_count": null,
   "id": "5aee4a14",
   "metadata": {},
   "outputs": [],
   "source": []
  },
  {
   "cell_type": "code",
   "execution_count": null,
   "id": "9d58200e",
   "metadata": {},
   "outputs": [],
   "source": []
  },
  {
   "cell_type": "code",
   "execution_count": null,
   "id": "9c6c9ebd",
   "metadata": {},
   "outputs": [],
   "source": []
  },
  {
   "cell_type": "code",
   "execution_count": null,
   "id": "9864b732",
   "metadata": {},
   "outputs": [],
   "source": []
  },
  {
   "cell_type": "code",
   "execution_count": null,
   "id": "8347a136",
   "metadata": {},
   "outputs": [],
   "source": []
  },
  {
   "cell_type": "code",
   "execution_count": null,
   "id": "918b30dc",
   "metadata": {},
   "outputs": [],
   "source": []
  }
 ],
 "metadata": {
  "kernelspec": {
   "display_name": "Python 3",
   "language": "python",
   "name": "python3"
  },
  "language_info": {
   "codemirror_mode": {
    "name": "ipython",
    "version": 3
   },
   "file_extension": ".py",
   "mimetype": "text/x-python",
   "name": "python",
   "nbconvert_exporter": "python",
   "pygments_lexer": "ipython3",
   "version": "3.8.8"
  },
  "toc": {
   "base_numbering": 1,
   "nav_menu": {},
   "number_sections": true,
   "sideBar": true,
   "skip_h1_title": false,
   "title_cell": "Table of Contents",
   "title_sidebar": "Contents",
   "toc_cell": false,
   "toc_position": {},
   "toc_section_display": true,
   "toc_window_display": false
  }
 },
 "nbformat": 4,
 "nbformat_minor": 5
}
